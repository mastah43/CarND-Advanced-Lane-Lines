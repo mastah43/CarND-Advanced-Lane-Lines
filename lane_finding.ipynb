{
 "cells": [
  {
   "cell_type": "code",
   "execution_count": 1,
   "metadata": {},
   "outputs": [],
   "source": [
    "import os\n",
    "import sys\n",
    "os.chdir('c:\\\\projects\\\\udacity\\\\CarND-Advanced-Lane-Lines\\\\')\n",
    "sys.path.insert(1, os.getcwd())"
   ]
  },
  {
   "cell_type": "code",
   "execution_count": 2,
   "metadata": {},
   "outputs": [
    {
     "name": "stdout",
     "output_type": "stream",
     "text": [
      "Populating the interactive namespace from numpy and matplotlib\n"
     ]
    }
   ],
   "source": [
    "import matplotlib.pyplot as plt\n",
    "import matplotlib.image as mpimg\n",
    "import cv2\n",
    "%matplotlib inline\n",
    "%pylab inline"
   ]
  },
  {
   "cell_type": "code",
   "execution_count": 3,
   "metadata": {},
   "outputs": [],
   "source": [
    "def plot_images(img_src, img_dst):\n",
    "    f, (ax1, ax2) = plt.subplots(1, 2, figsize=(24, 9))\n",
    "    f.tight_layout()\n",
    "    ax1.imshow(img_src)\n",
    "    ax1.set_title('Source Image', fontsize=50)\n",
    "    ax2.imshow(img_dst, cmap='gray')\n",
    "    ax2.set_title('Destination Image', fontsize=50)\n",
    "    ax2.imshow(img_dst, cmap='gray')\n",
    "    plt.subplots_adjust(left=0., right=1, top=0.9, bottom=0.)\n",
    "    plt.show()\n",
    "\n",
    "def plot_image(img):\n",
    "    plt.imshow(img, cmap='gray')\n",
    "    #plt.show()"
   ]
  },
  {
   "cell_type": "code",
   "execution_count": 4,
   "metadata": {},
   "outputs": [],
   "source": [
    "img_camera = cv2.imread('./test_images/test1.jpg')\n",
    "plt.imshow(img_camera, cmap='gray')\n",
    "plt.show()\n",
    "#plot_image(img_camera)\n",
    "#plot_image(img_camera)"
   ]
  },
  {
   "cell_type": "code",
   "execution_count": 6,
   "metadata": {},
   "outputs": [
    {
     "name": "stderr",
     "output_type": "stream",
     "text": [
      "WARNING:root:camera calibration could not use the following image - not all chessboard corners were found: ./camera_cal\\calibration1.jpg\n"
     ]
    },
    {
     "name": "stderr",
     "output_type": "stream",
     "text": [
      "WARNING:root:camera calibration could not use the following image - not all chessboard corners were found: ./camera_cal\\calibration4.jpg\n"
     ]
    },
    {
     "name": "stderr",
     "output_type": "stream",
     "text": [
      "WARNING:root:camera calibration could not use the following image - not all chessboard corners were found: ./camera_cal\\calibration5.jpg\n"
     ]
    }
   ],
   "source": [
    "from camera_img_undistorter import CameraImageUndistorter\n",
    "img_undistorter = CameraImageUndistorter()\n",
    "img_undistorted = img_undistorter.undistort(img_camera)\n",
    "plot_image(img_undistorted)"
   ]
  },
  {
   "cell_type": "code",
   "execution_count": null,
   "metadata": {},
   "outputs": [],
   "source": [
    "from lane_isolator import LaneIsolator\n",
    "lane_isolator = LaneIsolator()\n",
    "img_lanes = lane_isolator.isolate_lanes(img_undistorted)\n",
    "plot_image(img_lanes)"
   ]
  },
  {
   "cell_type": "code",
   "execution_count": null,
   "metadata": {},
   "outputs": [],
   "source": [
    "from camera_birdview_transform import CameraImagePerspectiveTransform\n",
    "img_transformer = CameraImagePerspectiveTransform()\n",
    "img_lanes_birdview = img_transformer.to_birdview(img_lanes)\n",
    "plot_image(img_lanes_birdview)"
   ]
  }
 ],
 "metadata": {
  "kernelspec": {
   "display_name": "Python 2",
   "language": "python",
   "name": "python2"
  },
  "language_info": {
   "codemirror_mode": {
    "name": "ipython",
    "version": 2.0
   },
   "file_extension": ".py",
   "mimetype": "text/x-python",
   "name": "python",
   "nbconvert_exporter": "python",
   "pygments_lexer": "ipython2",
   "version": "2.7.6"
  }
 },
 "nbformat": 4,
 "nbformat_minor": 0
}