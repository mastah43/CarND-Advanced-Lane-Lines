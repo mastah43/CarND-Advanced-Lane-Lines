{
 "cells": [
  {
   "cell_type": "code",
   "execution_count": 20,
   "metadata": {},
   "outputs": [],
   "source": [
    "import os\n",
    "os.chdir('c:\\\\projects\\\\udacity\\\\CarND-Advanced-Lane-Lines\\\\')\n",
    "sys.path.insert(1, os.getcwd())"
   ]
  },
  {
   "cell_type": "code",
   "execution_count": 31,
   "metadata": {},
   "outputs": [],
   "source": [
    "%matplotlib notebook\n",
    "\n",
    "import scipy.misc\n",
    "import matplotlib.pyplot as plt\n",
    "import matplotlib.image as mpimg\n",
    "import numpy as np\n",
    "import cv2\n",
    "from camera_img_undistorter import CameraImageUndistorter\n",
    "from camera_birdview_transform import CameraImagePerspectiveTransform"
   ]
  },
  {
   "cell_type": "code",
   "execution_count": 28,
   "metadata": {},
   "outputs": [],
   "source": [
    "def plot_images(img_src, img_dst):\n",
    "    f, (ax1, ax2) = plt.subplots(1, 2, figsize=(24, 9))\n",
    "    f.tight_layout()\n",
    "    ax1.imshow(img_src)\n",
    "    ax1.set_title('Source Image', fontsize=50)\n",
    "    ax2.imshow(img_dst, cmap='gray')\n",
    "    ax2.set_title('Destination Image', fontsize=50)\n",
    "    ax2.imshow(img_dst, cmap='gray') # TODO make a parameter\n",
    "    plt.subplots_adjust(left=0., right=1, top=0.9, bottom=0.)\n",
    "    plt.show()"
   ]
  },
  {
   "cell_type": "code",
   "execution_count": 29,
   "metadata": {},
   "outputs": [
    {
     "name": "stderr",
     "output_type": "stream",
     "text": [
      "WARNING:root:camera calibration could not use the following image - not all chessboard corners were found: ./camera_cal\\calibration1.jpg\n"
     ]
    },
    {
     "name": "stderr",
     "output_type": "stream",
     "text": [
      "WARNING:root:camera calibration could not use the following image - not all chessboard corners were found: ./camera_cal\\calibration4.jpg\n"
     ]
    },
    {
     "name": "stderr",
     "output_type": "stream",
     "text": [
      "WARNING:root:camera calibration could not use the following image - not all chessboard corners were found: ./camera_cal\\calibration5.jpg\n"
     ]
    }
   ],
   "source": [
    "img_transformer = CameraImagePerspectiveTransform()\n",
    "img_undistorter = CameraImageUndistorter()"
   ]
  },
  {
   "cell_type": "code",
   "execution_count": 32,
   "metadata": {},
   "outputs": [
    {
     "data": {
      "text/plain": [
       "<IPython.core.display.Javascript object>"
      ]
     },
     "execution_count": 0,
     "metadata": {},
     "output_type": "execute_result"
    },
    {
     "data": {
      "text/html": [
       "<div id='6a908024-9a5d-441e-a359-911ce89babfb'></div>"
      ],
      "text/plain": [
       "<div id='6a908024-9a5d-441e-a359-911ce89babfb'></div>"
      ]
     },
     "execution_count": 0,
     "metadata": {},
     "output_type": "execute_result"
    },
    {
     "data": {
      "text/plain": [
       "<IPython.core.display.Javascript object>"
      ]
     },
     "execution_count": 0,
     "metadata": {},
     "output_type": "execute_result"
    },
    {
     "data": {
      "text/html": [
       "<div id='fc5dbb9a-7d29-45ac-b690-176da40cd371'></div>"
      ],
      "text/plain": [
       "<div id='fc5dbb9a-7d29-45ac-b690-176da40cd371'></div>"
      ]
     },
     "execution_count": 0,
     "metadata": {},
     "output_type": "execute_result"
    }
   ],
   "source": [
    "img = cv2.imread('./test_images/test1.jpg')\n",
    "img_undistorted = img_undistorter.undistort(img)\n",
    "plot_images(img, img_undistorted)"
   ]
  },
  {
   "cell_type": "code",
   "execution_count": null,
   "metadata": {},
   "outputs": [],
   "source": [
    ""
   ]
  }
 ],
 "metadata": {
  "kernelspec": {
   "display_name": "Python 2",
   "language": "python",
   "name": "python2"
  },
  "language_info": {
   "codemirror_mode": {
    "name": "ipython",
    "version": 2.0
   },
   "file_extension": ".py",
   "mimetype": "text/x-python",
   "name": "python",
   "nbconvert_exporter": "python",
   "pygments_lexer": "ipython2",
   "version": "2.7.6"
  }
 },
 "nbformat": 4,
 "nbformat_minor": 0
}